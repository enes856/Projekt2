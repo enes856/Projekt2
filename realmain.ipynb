{
 "cells": [
  {
   "cell_type": "markdown",
   "id": "4bdce409",
   "metadata": {},
   "source": [
    "### Bibliotheken\n",
    "\n"
   ]
  },
  {
   "cell_type": "code",
   "execution_count": 121,
   "id": "500f868f",
   "metadata": {},
   "outputs": [],
   "source": [
    "import matplotlib.pyplot as plt \n",
    "from ipywidgets import interact\n",
    "import ipywidgets as widgets"
   ]
  },
  {
   "cell_type": "markdown",
   "id": "c0f988df",
   "metadata": {},
   "source": [
    "### Aufgabe 1"
   ]
  },
  {
   "cell_type": "code",
   "execution_count": 168,
   "id": "b1075172",
   "metadata": {},
   "outputs": [],
   "source": [
    "def plotL(l, r):\n",
    "    h = var(\"h\")\n",
    "    \n",
    "    Liter = (l * (r^2 * arccos((r - h) / r) - (r - h) * sqrt(2 * r * h - h^2)))*1000\n",
    "    \n",
    "    title_str = f\"Liter: {l} * ( {r}^2 * arccos(( {r} - h) / {r}) - ( {r} - h) * sqrt(2 * {r} * h - h^2)) * 1000\"\n",
    "    \n",
    "    return plot(Liter, (h, 0, r), title=title_str) \n",
    "    "
   ]
  },
  {
   "cell_type": "code",
   "execution_count": 169,
   "id": "06540b00",
   "metadata": {},
   "outputs": [
    {
     "data": {
      "application/vnd.jupyter.widget-view+json": {
       "model_id": "aff0cdb1f70c4bb5ab48a95dc164f5e5",
       "version_major": 2,
       "version_minor": 0
      },
      "text/plain": [
       "interactive(children=(FloatSlider(value=1.0, description='l', max=2.0), FloatSlider(value=1.0, description='r', max=2.0), Output()), _dom_classes=('widget-interact',))"
      ]
     },
     "metadata": {},
     "output_type": "display_data"
    },
    {
     "data": {
      "text/plain": [
       "<function plotL at 0x18752e980>"
      ]
     },
     "execution_count": 169,
     "metadata": {},
     "output_type": "execute_result"
    }
   ],
   "source": [
    "interact(plotL, l = (0, 2, 0.1), r = (0,2,0.1))"
   ]
  },
  {
   "cell_type": "markdown",
   "id": "566f7ed6",
   "metadata": {},
   "source": [
    "### Aufgabe 2"
   ]
  },
  {
   "cell_type": "code",
   "execution_count": 176,
   "id": "5bb4341f",
   "metadata": {},
   "outputs": [
    {
     "data": {
      "text/plain": [
       "[{-(r^2*arccos((r - 0.2)/r) - (r - 0.2)*sqrt(0.4*r - 0.04000000000000001))*l + (r^2*arccos((r - 0.6)/r) - sqrt(1.2*r - 0.36)*(r - 0.6))*l: 2.6},\n",
       " {-(r^2*arccos((r - 0.3)/r) - (r - 0.3)*sqrt(0.6*r - 0.09))*l + (r^2*arccos((r - 1)/r) - sqrt(2*r - 1)*(r - 1))*l: 4.5}]"
      ]
     },
     "execution_count": 176,
     "metadata": {},
     "output_type": "execute_result"
    }
   ],
   "source": [
    "l, r = var(\"l, r\", domain = 'real')\n",
    "\n",
    "eq = (l * (r^2 * arccos((r - 1) / r) - (r - 1) * sqrt(2 * r * 1 - 1^2))) - (l * (r^2 * arccos((r - 0.3) / r) - (r - 0.3) * sqrt(2 * r * 0.3 - 0.3^2)))== 4.5\n",
    "eq2 = (l * (r^2 * arccos((r - 0.6) / r) - (r - 0.6) * sqrt(2 * r * 0.6 - 0.6^2)))- (l * (r^2 * arccos((r - 0.2) / r) - (r - 0.2) * sqrt(2 * r * 0.2 - 0.2^2)))== 2.6\n",
    "\n",
    "solve([eq, eq2], l, r, solution_dict=True)"
   ]
  },
  {
   "cell_type": "markdown",
   "id": "73f4e970",
   "metadata": {},
   "source": [
    "**erst nach L auflösen eine Gleichung und dann die Lösung in die andere Gleichung einsetzen**\n",
    "\n",
    "**dann lösen mit solve**"
   ]
  },
  {
   "cell_type": "code",
   "execution_count": 177,
   "id": "69447484",
   "metadata": {},
   "outputs": [
    {
     "data": {
      "text/html": [
       "<html>\\(\\displaystyle \\left[\\left\\{r : \\frac{13 \\, \\sqrt{3} \\sqrt{20 \\, r - 3} + 45 \\, \\sqrt{3} \\sqrt{10 \\, r - 3} + \\sqrt{90 \\, \\sqrt{3} {\\left(13 \\, \\sqrt{3} \\sqrt{20 \\, r - 3} - 45 \\, \\sqrt{10 \\, r - 1} - 130 \\, \\sqrt{2 \\, r - 1} + 156 \\, \\arccos\\left(\\frac{r - 1}{r}\\right)\\right)} \\sqrt{10 \\, r - 3} - 52 \\, {\\left(39 \\, \\sqrt{3} \\sqrt{20 \\, r - 3} + 270 \\, \\sqrt{3} \\sqrt{10 \\, r - 3} - 90 \\, \\sqrt{10 \\, r - 1} - 1300 \\, \\sqrt{2 \\, r - 1}\\right)} \\arccos\\left(\\frac{10 \\, r - 3}{10 \\, r}\\right) + 90 \\, {\\left(39 \\, \\sqrt{3} \\sqrt{20 \\, r - 3} + 270 \\, \\sqrt{3} \\sqrt{10 \\, r - 3} - 90 \\, \\sqrt{10 \\, r - 1} - 1300 \\, \\sqrt{2 \\, r - 1}\\right)} \\arccos\\left(\\frac{5 \\, r - 1}{5 \\, r}\\right) - 90 \\, {\\left(39 \\, \\sqrt{3} \\sqrt{20 \\, r - 3} + 270 \\, \\sqrt{3} \\sqrt{10 \\, r - 3} - 90 \\, \\sqrt{10 \\, r - 1} - 1300 \\, \\sqrt{2 \\, r - 1}\\right)} \\arccos\\left(\\frac{5 \\, r - 3}{5 \\, r}\\right) + 26 \\, {\\left(78 \\, \\sqrt{3} \\arccos\\left(\\frac{r - 1}{r}\\right) - 45 \\, \\sqrt{3} \\sqrt{10 \\, r - 1} - 130 \\, \\sqrt{3} \\sqrt{2 \\, r - 1}\\right)} \\sqrt{20 \\, r - 3} + 2340 \\, \\sqrt{10 \\, r - 1} {\\left(5 \\, \\sqrt{2 \\, r - 1} - 2 \\, \\arccos\\left(\\frac{r - 1}{r}\\right)\\right)} - 67600 \\, \\sqrt{2 \\, r - 1} \\arccos\\left(\\frac{r - 1}{r}\\right) + 124940 \\, r - 38671} - 45 \\, \\sqrt{10 \\, r - 1} - 130 \\, \\sqrt{2 \\, r - 1}}{10 \\, {\\left(26 \\, \\arccos\\left(\\frac{10 \\, r - 3}{10 \\, r}\\right) - 45 \\, \\arccos\\left(\\frac{5 \\, r - 1}{5 \\, r}\\right) + 45 \\, \\arccos\\left(\\frac{5 \\, r - 3}{5 \\, r}\\right) - 26 \\, \\arccos\\left(\\frac{r - 1}{r}\\right)\\right)}}\\right\\}, \\left\\{r : \\frac{13 \\, \\sqrt{3} \\sqrt{20 \\, r - 3} + 45 \\, \\sqrt{3} \\sqrt{10 \\, r - 3} - \\sqrt{90 \\, \\sqrt{3} {\\left(13 \\, \\sqrt{3} \\sqrt{20 \\, r - 3} - 45 \\, \\sqrt{10 \\, r - 1} - 130 \\, \\sqrt{2 \\, r - 1} + 156 \\, \\arccos\\left(\\frac{r - 1}{r}\\right)\\right)} \\sqrt{10 \\, r - 3} - 52 \\, {\\left(39 \\, \\sqrt{3} \\sqrt{20 \\, r - 3} + 270 \\, \\sqrt{3} \\sqrt{10 \\, r - 3} - 90 \\, \\sqrt{10 \\, r - 1} - 1300 \\, \\sqrt{2 \\, r - 1}\\right)} \\arccos\\left(\\frac{10 \\, r - 3}{10 \\, r}\\right) + 90 \\, {\\left(39 \\, \\sqrt{3} \\sqrt{20 \\, r - 3} + 270 \\, \\sqrt{3} \\sqrt{10 \\, r - 3} - 90 \\, \\sqrt{10 \\, r - 1} - 1300 \\, \\sqrt{2 \\, r - 1}\\right)} \\arccos\\left(\\frac{5 \\, r - 1}{5 \\, r}\\right) - 90 \\, {\\left(39 \\, \\sqrt{3} \\sqrt{20 \\, r - 3} + 270 \\, \\sqrt{3} \\sqrt{10 \\, r - 3} - 90 \\, \\sqrt{10 \\, r - 1} - 1300 \\, \\sqrt{2 \\, r - 1}\\right)} \\arccos\\left(\\frac{5 \\, r - 3}{5 \\, r}\\right) + 26 \\, {\\left(78 \\, \\sqrt{3} \\arccos\\left(\\frac{r - 1}{r}\\right) - 45 \\, \\sqrt{3} \\sqrt{10 \\, r - 1} - 130 \\, \\sqrt{3} \\sqrt{2 \\, r - 1}\\right)} \\sqrt{20 \\, r - 3} + 2340 \\, \\sqrt{10 \\, r - 1} {\\left(5 \\, \\sqrt{2 \\, r - 1} - 2 \\, \\arccos\\left(\\frac{r - 1}{r}\\right)\\right)} - 67600 \\, \\sqrt{2 \\, r - 1} \\arccos\\left(\\frac{r - 1}{r}\\right) + 124940 \\, r - 38671} - 45 \\, \\sqrt{10 \\, r - 1} - 130 \\, \\sqrt{2 \\, r - 1}}{10 \\, {\\left(26 \\, \\arccos\\left(\\frac{10 \\, r - 3}{10 \\, r}\\right) - 45 \\, \\arccos\\left(\\frac{5 \\, r - 1}{5 \\, r}\\right) + 45 \\, \\arccos\\left(\\frac{5 \\, r - 3}{5 \\, r}\\right) - 26 \\, \\arccos\\left(\\frac{r - 1}{r}\\right)\\right)}}\\right\\}\\right]\\)</html>"
      ],
      "text/latex": [
       "$\\displaystyle \\left[\\left\\{r : \\frac{13 \\, \\sqrt{3} \\sqrt{20 \\, r - 3} + 45 \\, \\sqrt{3} \\sqrt{10 \\, r - 3} + \\sqrt{90 \\, \\sqrt{3} {\\left(13 \\, \\sqrt{3} \\sqrt{20 \\, r - 3} - 45 \\, \\sqrt{10 \\, r - 1} - 130 \\, \\sqrt{2 \\, r - 1} + 156 \\, \\arccos\\left(\\frac{r - 1}{r}\\right)\\right)} \\sqrt{10 \\, r - 3} - 52 \\, {\\left(39 \\, \\sqrt{3} \\sqrt{20 \\, r - 3} + 270 \\, \\sqrt{3} \\sqrt{10 \\, r - 3} - 90 \\, \\sqrt{10 \\, r - 1} - 1300 \\, \\sqrt{2 \\, r - 1}\\right)} \\arccos\\left(\\frac{10 \\, r - 3}{10 \\, r}\\right) + 90 \\, {\\left(39 \\, \\sqrt{3} \\sqrt{20 \\, r - 3} + 270 \\, \\sqrt{3} \\sqrt{10 \\, r - 3} - 90 \\, \\sqrt{10 \\, r - 1} - 1300 \\, \\sqrt{2 \\, r - 1}\\right)} \\arccos\\left(\\frac{5 \\, r - 1}{5 \\, r}\\right) - 90 \\, {\\left(39 \\, \\sqrt{3} \\sqrt{20 \\, r - 3} + 270 \\, \\sqrt{3} \\sqrt{10 \\, r - 3} - 90 \\, \\sqrt{10 \\, r - 1} - 1300 \\, \\sqrt{2 \\, r - 1}\\right)} \\arccos\\left(\\frac{5 \\, r - 3}{5 \\, r}\\right) + 26 \\, {\\left(78 \\, \\sqrt{3} \\arccos\\left(\\frac{r - 1}{r}\\right) - 45 \\, \\sqrt{3} \\sqrt{10 \\, r - 1} - 130 \\, \\sqrt{3} \\sqrt{2 \\, r - 1}\\right)} \\sqrt{20 \\, r - 3} + 2340 \\, \\sqrt{10 \\, r - 1} {\\left(5 \\, \\sqrt{2 \\, r - 1} - 2 \\, \\arccos\\left(\\frac{r - 1}{r}\\right)\\right)} - 67600 \\, \\sqrt{2 \\, r - 1} \\arccos\\left(\\frac{r - 1}{r}\\right) + 124940 \\, r - 38671} - 45 \\, \\sqrt{10 \\, r - 1} - 130 \\, \\sqrt{2 \\, r - 1}}{10 \\, {\\left(26 \\, \\arccos\\left(\\frac{10 \\, r - 3}{10 \\, r}\\right) - 45 \\, \\arccos\\left(\\frac{5 \\, r - 1}{5 \\, r}\\right) + 45 \\, \\arccos\\left(\\frac{5 \\, r - 3}{5 \\, r}\\right) - 26 \\, \\arccos\\left(\\frac{r - 1}{r}\\right)\\right)}}\\right\\}, \\left\\{r : \\frac{13 \\, \\sqrt{3} \\sqrt{20 \\, r - 3} + 45 \\, \\sqrt{3} \\sqrt{10 \\, r - 3} - \\sqrt{90 \\, \\sqrt{3} {\\left(13 \\, \\sqrt{3} \\sqrt{20 \\, r - 3} - 45 \\, \\sqrt{10 \\, r - 1} - 130 \\, \\sqrt{2 \\, r - 1} + 156 \\, \\arccos\\left(\\frac{r - 1}{r}\\right)\\right)} \\sqrt{10 \\, r - 3} - 52 \\, {\\left(39 \\, \\sqrt{3} \\sqrt{20 \\, r - 3} + 270 \\, \\sqrt{3} \\sqrt{10 \\, r - 3} - 90 \\, \\sqrt{10 \\, r - 1} - 1300 \\, \\sqrt{2 \\, r - 1}\\right)} \\arccos\\left(\\frac{10 \\, r - 3}{10 \\, r}\\right) + 90 \\, {\\left(39 \\, \\sqrt{3} \\sqrt{20 \\, r - 3} + 270 \\, \\sqrt{3} \\sqrt{10 \\, r - 3} - 90 \\, \\sqrt{10 \\, r - 1} - 1300 \\, \\sqrt{2 \\, r - 1}\\right)} \\arccos\\left(\\frac{5 \\, r - 1}{5 \\, r}\\right) - 90 \\, {\\left(39 \\, \\sqrt{3} \\sqrt{20 \\, r - 3} + 270 \\, \\sqrt{3} \\sqrt{10 \\, r - 3} - 90 \\, \\sqrt{10 \\, r - 1} - 1300 \\, \\sqrt{2 \\, r - 1}\\right)} \\arccos\\left(\\frac{5 \\, r - 3}{5 \\, r}\\right) + 26 \\, {\\left(78 \\, \\sqrt{3} \\arccos\\left(\\frac{r - 1}{r}\\right) - 45 \\, \\sqrt{3} \\sqrt{10 \\, r - 1} - 130 \\, \\sqrt{3} \\sqrt{2 \\, r - 1}\\right)} \\sqrt{20 \\, r - 3} + 2340 \\, \\sqrt{10 \\, r - 1} {\\left(5 \\, \\sqrt{2 \\, r - 1} - 2 \\, \\arccos\\left(\\frac{r - 1}{r}\\right)\\right)} - 67600 \\, \\sqrt{2 \\, r - 1} \\arccos\\left(\\frac{r - 1}{r}\\right) + 124940 \\, r - 38671} - 45 \\, \\sqrt{10 \\, r - 1} - 130 \\, \\sqrt{2 \\, r - 1}}{10 \\, {\\left(26 \\, \\arccos\\left(\\frac{10 \\, r - 3}{10 \\, r}\\right) - 45 \\, \\arccos\\left(\\frac{5 \\, r - 1}{5 \\, r}\\right) + 45 \\, \\arccos\\left(\\frac{5 \\, r - 3}{5 \\, r}\\right) - 26 \\, \\arccos\\left(\\frac{r - 1}{r}\\right)\\right)}}\\right\\}\\right]$"
      ],
      "text/plain": [
       "[{r: 1/10*(13*sqrt(3)*sqrt(20*r - 3) + 45*sqrt(3)*sqrt(10*r - 3) + sqrt(90*sqrt(3)*(13*sqrt(3)*sqrt(20*r - 3) - 45*sqrt(10*r - 1) - 130*sqrt(2*r - 1) + 156*arccos((r - 1)/r))*sqrt(10*r - 3) - 52*(39*sqrt(3)*sqrt(20*r - 3) + 270*sqrt(3)*sqrt(10*r - 3) - 90*sqrt(10*r - 1) - 1300*sqrt(2*r - 1))*arccos(1/10*(10*r - 3)/r) + 90*(39*sqrt(3)*sqrt(20*r - 3) + 270*sqrt(3)*sqrt(10*r - 3) - 90*sqrt(10*r - 1) - 1300*sqrt(2*r - 1))*arccos(1/5*(5*r - 1)/r) - 90*(39*sqrt(3)*sqrt(20*r - 3) + 270*sqrt(3)*sqrt(10*r - 3) - 90*sqrt(10*r - 1) - 1300*sqrt(2*r - 1))*arccos(1/5*(5*r - 3)/r) + 26*(78*sqrt(3)*arccos((r - 1)/r) - 45*sqrt(3)*sqrt(10*r - 1) - 130*sqrt(3)*sqrt(2*r - 1))*sqrt(20*r - 3) + 2340*sqrt(10*r - 1)*(5*sqrt(2*r - 1) - 2*arccos((r - 1)/r)) - 67600*sqrt(2*r - 1)*arccos((r - 1)/r) + 124940*r - 38671) - 45*sqrt(10*r - 1) - 130*sqrt(2*r - 1))/(26*arccos(1/10*(10*r - 3)/r) - 45*arccos(1/5*(5*r - 1)/r) + 45*arccos(1/5*(5*r - 3)/r) - 26*arccos((r - 1)/r))},\n",
       " {r: 1/10*(13*sqrt(3)*sqrt(20*r - 3) + 45*sqrt(3)*sqrt(10*r - 3) - sqrt(90*sqrt(3)*(13*sqrt(3)*sqrt(20*r - 3) - 45*sqrt(10*r - 1) - 130*sqrt(2*r - 1) + 156*arccos((r - 1)/r))*sqrt(10*r - 3) - 52*(39*sqrt(3)*sqrt(20*r - 3) + 270*sqrt(3)*sqrt(10*r - 3) - 90*sqrt(10*r - 1) - 1300*sqrt(2*r - 1))*arccos(1/10*(10*r - 3)/r) + 90*(39*sqrt(3)*sqrt(20*r - 3) + 270*sqrt(3)*sqrt(10*r - 3) - 90*sqrt(10*r - 1) - 1300*sqrt(2*r - 1))*arccos(1/5*(5*r - 1)/r) - 90*(39*sqrt(3)*sqrt(20*r - 3) + 270*sqrt(3)*sqrt(10*r - 3) - 90*sqrt(10*r - 1) - 1300*sqrt(2*r - 1))*arccos(1/5*(5*r - 3)/r) + 26*(78*sqrt(3)*arccos((r - 1)/r) - 45*sqrt(3)*sqrt(10*r - 1) - 130*sqrt(3)*sqrt(2*r - 1))*sqrt(20*r - 3) + 2340*sqrt(10*r - 1)*(5*sqrt(2*r - 1) - 2*arccos((r - 1)/r)) - 67600*sqrt(2*r - 1)*arccos((r - 1)/r) + 124940*r - 38671) - 45*sqrt(10*r - 1) - 130*sqrt(2*r - 1))/(26*arccos(1/10*(10*r - 3)/r) - 45*arccos(1/5*(5*r - 1)/r) + 45*arccos(1/5*(5*r - 3)/r) - 26*arccos((r - 1)/r))}]"
      ]
     },
     "metadata": {},
     "output_type": "display_data"
    }
   ],
   "source": [
    "nach_l = solve(eq, l, solution_dict= True)\n",
    "\n",
    "neweq = eq2.substitute(l = nach_l[0][l])\n",
    "\n",
    "pretty_print(solve (neweq, r, solution_dict = True))\n"
   ]
  },
  {
   "cell_type": "markdown",
   "id": "b6aa19c8",
   "metadata": {},
   "source": [
    "### Aufgabe 3"
   ]
  },
  {
   "cell_type": "code",
   "execution_count": null,
   "id": "c9dc9dc9",
   "metadata": {},
   "outputs": [],
   "source": []
  }
 ],
 "metadata": {
  "kernelspec": {
   "display_name": "SageMath 10.2",
   "language": "sage",
   "name": "sagemath"
  },
  "language_info": {
   "codemirror_mode": {
    "name": "ipython",
    "version": 3
   },
   "file_extension": ".py",
   "mimetype": "text/x-python",
   "name": "python",
   "nbconvert_exporter": "python",
   "pygments_lexer": "ipython3",
   "version": "3.11.1"
  }
 },
 "nbformat": 4,
 "nbformat_minor": 5
}
