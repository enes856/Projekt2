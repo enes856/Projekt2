{
 "cells": [
  {
   "cell_type": "code",
   "execution_count": null,
   "id": "0f70ab3e",
   "metadata": {},
   "outputs": [],
   "source": [
    "from sage.plot.plot3d.parametric_plot3d import parametric_plot3d\n",
    "import pandas as pd\n",
    "import numpy as np\n",
    "from ipywidgets import interact\n",
    "import ipywidgets as widgets\n",
    "from sage.plot.circle import circle"
   ]
  },
  {
   "cell_type": "markdown",
   "id": "f52e8475",
   "metadata": {},
   "source": [
    "### Gegeben:\n",
    "- höhe = 0.2m | nach 2600l tanken | höhe = 0.6m\n",
    "- höhe = 0.3m | nach 4500l tanken | höhe = 1.0m"
   ]
  },
  {
   "cell_type": "code",
   "execution_count": null,
   "id": "f5b82932",
   "metadata": {},
   "outputs": [],
   "source": [
    "def Interaktiv(r, l):\n",
    "    h = var(\"h\")\n",
    "    return f\" V (r, l, h) = {l * (r^2 * arccos((r-h)/r) - (r-h) * sqrt(2*r*h - h^2))}\"\n",
    "    \n",
    "\n",
    "radius_widget = widgets.FloatSlider(value=1, min=0.1, max=100.0, step=0.1, description=\"Radius\")\n",
    "länge_widget = widgets.FloatSlider(value=1, min=0.1, max=100.0, step=0.1, description=\"Länge\")\n",
    "\n",
    "interact(Interaktiv, r = radius_widget, l= länge_widget)"
   ]
  },
  {
   "cell_type": "markdown",
   "id": "5395e7f7",
   "metadata": {},
   "source": [
    "#### &#11088; Versuchen Sie zunächst, das Problem mit der Methode solve() zu lösen. Hierzu erstellen Sie ein Gleichungssystem aus zwei Gleichungen in den beiden Variablen r und l, wobei jede Gleichung einen der Tankvorgänge darstellt (d.h. fur h die konkreten Werte aus der Tabelle enthält)."
   ]
  },
  {
   "cell_type": "code",
   "execution_count": 20,
   "id": "aa05d98d",
   "metadata": {},
   "outputs": [],
   "source": [
    "r, l = var(\"r, l\")\n",
    "\n",
    "assume(r, \"real\")\n",
    "assume(l, \"real\")\n",
    "assume(r > 0)\n",
    "assume(l > 0)\n",
    "\n",
    "eq1 = l * (r^2 * arccos((r-0.6)/r) - (r-0.6) * sqrt(2*r*0.6 - 0.6^2)) - l * (r^2 * arccos((r-0.2)/r) - (r-0.2) * sqrt(2*r*0.2 - 0.2^2)) == 2.6\n",
    "\n",
    "eq2 = l * (r^2 * arccos((r-1.0)/r) - (r-1.0) * sqrt(2*r*1.0 - 1.0^2)) - l * (r^2 * arccos((r-0.3)/r) - (r-0.3) * sqrt(2*r*0.3 - 0.3^2)) == 4.5"
   ]
  },
  {
   "cell_type": "markdown",
   "id": "e65e7e32",
   "metadata": {},
   "source": [
    "#### &#11088; Versuchen Sie zunächst, solve() auf das Gleichungssystem mit zwei Gleichungen anzuwenden. Was passiert? "
   ]
  },
  {
   "cell_type": "code",
   "execution_count": null,
   "id": "593ad213",
   "metadata": {},
   "outputs": [],
   "source": [
    "lsg = solve([eq1, eq2], r, l, solution_dict=True)"
   ]
  },
  {
   "cell_type": "markdown",
   "id": "6c8dd373",
   "metadata": {},
   "source": [
    "#### &#11088; Lösen Sie sodann eine der Gleichungen mit Hilfe von solve() nach der Variablen l auf. Die Lösung setzen Sie in die andere Gleichung ein (mit substitute()), so dass Sie eine Gleichung mit einer Variablen r erhalten."
   ]
  },
  {
   "cell_type": "code",
   "execution_count": 26,
   "id": "3ca7cdfa",
   "metadata": {},
   "outputs": [],
   "source": [
    "lsg1 = solve(eq1, l, solution_dict=True)\n",
    "lsg2 = solve(eq2.substitute(l = lsg1[0][l]), r, solution_dict=True)"
   ]
  },
  {
   "cell_type": "markdown",
   "id": "9d2f9adf",
   "metadata": {},
   "source": [
    "#### &#11088; Diese Gleichung lösen Sie mit find_root() und bestimmen anschließend auch die Lösung fur l."
   ]
  },
  {
   "cell_type": "code",
   "execution_count": 25,
   "id": "ee56805b",
   "metadata": {},
   "outputs": [
    {
     "name": "stdout",
     "output_type": "stream",
     "text": [
      "Länge: 4.48966892514515 m Radius: 0.8794006780369278 m\n"
     ]
    }
   ],
   "source": [
    "radius = find_root(lsg2[0][r], 0, 1000000)\n",
    "\n",
    "länge = solve(eq1.substitute(r = radius), l, solution_dict=True)\n",
    "\n",
    "print(\"Länge:\", länge[0][l].n(), \"m\", \"Radius:\", radius, \"m\")"
   ]
  },
  {
   "cell_type": "markdown",
   "id": "3661acd3",
   "metadata": {},
   "source": [
    "#### &#11088; Dokumentieren Sie Ihre Vermutungen, warum solve() das Gleichungssystem nicht ohne Ihre Hilfe lösen kann."
   ]
  },
  {
   "cell_type": "code",
   "execution_count": null,
   "id": "e69754e8",
   "metadata": {},
   "outputs": [],
   "source": []
  }
 ],
 "metadata": {
  "kernelspec": {
   "display_name": "SageMath 9.5",
   "language": "sage",
   "name": "sagemath"
  },
  "language_info": {
   "codemirror_mode": {
    "name": "ipython",
    "version": 3
   },
   "file_extension": ".py",
   "mimetype": "text/x-python",
   "name": "python",
   "nbconvert_exporter": "python",
   "pygments_lexer": "ipython3",
   "version": "3.10.12"
  }
 },
 "nbformat": 4,
 "nbformat_minor": 5
}
